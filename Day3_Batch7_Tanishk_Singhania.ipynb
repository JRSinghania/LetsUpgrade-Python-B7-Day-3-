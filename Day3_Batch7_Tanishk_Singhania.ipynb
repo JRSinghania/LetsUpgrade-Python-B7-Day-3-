{
  "nbformat": 4,
  "nbformat_minor": 0,
  "metadata": {
    "colab": {
      "name": "Day3 Batch7 Tanishk Singhania.ipynb",
      "provenance": [],
      "authorship_tag": "ABX9TyPdgPCIviIibse02OWJy7w2",
      "include_colab_link": true
    },
    "kernelspec": {
      "name": "python3",
      "display_name": "Python 3"
    }
  },
  "cells": [
    {
      "cell_type": "markdown",
      "metadata": {
        "id": "view-in-github",
        "colab_type": "text"
      },
      "source": [
        "<a href=\"https://colab.research.google.com/github/JRSinghania/LetsUpgrade-Python-B7-Day-3-/blob/master/Day3_Batch7_Tanishk_Singhania.ipynb\" target=\"_parent\"><img src=\"https://colab.research.google.com/assets/colab-badge.svg\" alt=\"Open In Colab\"/></a>"
      ]
    },
    {
      "cell_type": "code",
      "metadata": {
        "id": "m30JPPpWsbHs",
        "colab_type": "code",
        "colab": {
          "base_uri": "https://localhost:8080/",
          "height": 51
        },
        "outputId": "5cde516b-78db-43f0-eeba-85eb64b66cf9"
      },
      "source": [
        "a = int(input(\"Enter your current altitude\"))\n",
        "if a <= 1000:\n",
        "  print (\"You are ready to land\")\n",
        "elif a > 1000 and a <= 5000:\n",
        "  print (\"reduce your altitude\")\n",
        "else:\n",
        "   print (\"turn around and try again\")"
      ],
      "execution_count": null,
      "outputs": [
        {
          "output_type": "stream",
          "text": [
            "Enter your current altitude200\n",
            "You are ready to land\n"
          ],
          "name": "stdout"
        }
      ]
    }
  ]
}